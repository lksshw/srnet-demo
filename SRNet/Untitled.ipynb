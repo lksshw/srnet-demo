{
 "cells": [
  {
   "cell_type": "code",
   "execution_count": 176,
   "metadata": {},
   "outputs": [],
   "source": [
    "import pygame\n",
    "import pygame.locals\n",
    "from pygame import freetype\n",
    "import numpy as np\n",
    "import cv2\n",
    "\n",
    "def render_normal(font, text):\n",
    "    line_spacing = font.get_sized_height() +1\n",
    "    line_bounds = font.get_rect(text)\n",
    "    fsize = (round(2.0 * line_bounds.width), round(1 * line_spacing))\n",
    "    surf = pygame.Surface(fsize, pygame.locals.SRCALPHA, 32)\n",
    "    x, y = 0, line_spacing\n",
    "    \n",
    "    rect = font.render_to(surf, (x, y), text)\n",
    "    rect.x = x + rect.x\n",
    "    rect.y = y - rect.y\n",
    "    \n",
    "    surf = pygame.surfarray.pixels_alpha(surf).swapaxes(0, 1)\n",
    "    loc = np.where(surf > 20)\n",
    "    miny, minx = np.min(loc[0]), np.min(loc[1])\n",
    "    maxy, maxx = np.max(loc[0]), np.max(loc[1])\n",
    "    return surf[miny:maxy+1, minx:maxx+1], rect\n",
    "\n",
    "def make_standard_text(font_path, text, shape, padding = 0.1, color = (0, 0, 0), init_fontsize = 25):\n",
    "    font = freetype.Font(font_path)\n",
    "    font.antialiased = True\n",
    "    font.origin = True\n",
    "    fontsize = init_fontsize\n",
    "    font.size = fontsize\n",
    "    pre_remain = None\n",
    "    if padding < 1:\n",
    "        border = int(min(shape) * padding)\n",
    "    else:\n",
    "        border = int(padding)\n",
    "    target_shape = tuple(np.array(shape) - 2 * border)\n",
    "    while True:\n",
    "        rect = font.get_rect(text)\n",
    "        res_shape = tuple(np.array(rect[1:3]))\n",
    "        remain = np.min(np.array(target_shape) - np.array(res_shape))\n",
    "        if pre_remain is not None:\n",
    "            m = pre_remain * remain\n",
    "            if m <= 0:\n",
    "                if m < 0 and remain < 0:\n",
    "                    fontsize -= 1\n",
    "                if m == 0 and remain != 0:\n",
    "                    if remain < 0:\n",
    "                        fontsize -= 1\n",
    "                    elif remain > 0:\n",
    "                        fontsize += 1\n",
    "                break\n",
    "        if remain < 0:\n",
    "            if fontsize == 2:\n",
    "                break\n",
    "            fontsize -= 1\n",
    "        else:\n",
    "            fontsize += 1\n",
    "        pre_remain = remain\n",
    "        font.size = fontsize\n",
    "\n",
    "    surf, rect = render_normal(font, text)\n",
    "    print(surf.shape)\n",
    "    print(target_shape)\n",
    "    if np.max(np.array(surf.shape) - np.array(target_shape)) >= 0:\n",
    "        scale = np.min(np.array(target_shape, dtype = np.float32) / np.array(surf.shape, dtype = np.float32))\n",
    "        to_shape = tuple((np.array(surf.shape) * scale).astype(np.int32)[::-1])\n",
    "        surf = cv2.resize(surf, (to_shape[0], to_shape[1]+20))\n",
    "    canvas = np.zeros(shape, dtype = np.uint8)\n",
    "    tly, tlx = int((shape[0] - surf.shape[0]) // 2), int((shape[1] - surf.shape[1]) // 2)\n",
    "    canvas[tly:tly+surf.shape[0], tlx:tlx+surf.shape[1]] = surf\n",
    "    canvas = ((1. - canvas.astype(np.float32) / 255.) * 127.).astype(np.uint8)\n",
    "    return cv2.cvtColor(canvas, cv2.COLOR_GRAY2RGB)"
   ]
  },
  {
   "cell_type": "code",
   "execution_count": 177,
   "metadata": {},
   "outputs": [
    {
     "name": "stdout",
     "output_type": "stream",
     "text": [
      "(31, 143)\n",
      "(52, 138)\n"
     ]
    }
   ],
   "source": [
    "\n",
    "import pygame\n",
    "from pygame import freetype\n",
    "pygame.init()\n",
    "freetype.init()\n",
    "font = '/home/niwhskal/GP1-Srnet/CRAFT-pytorch/SRNet/arial.ttf'\n",
    "res = make_standard_text(font, 'custom', (64, 150))"
   ]
  },
  {
   "cell_type": "code",
   "execution_count": 178,
   "metadata": {},
   "outputs": [
    {
     "data": {
      "image/png": "[encoded data removed]",
      "text/plain": [
       "<Figure size 432x288 with 1 Axes>"
      ]
     },
     "metadata": {
      "needs_background": "light"
     },
     "output_type": "display_data"
    }
   ],
   "source": [
    "%matplotlib inline\n",
    "from matplotlib import pyplot as plt\n",
    "\n",
    "plt.imshow(res)\n",
    "plt.show()"
   ]
  },
  {
   "cell_type": "code",
   "execution_count": null,
   "metadata": {},
   "outputs": [],
   "source": []
  }
 ],
 "metadata": {
  "kernelspec": {
   "display_name": "Python 3",
   "language": "python",
   "name": "python3"
  },
  "language_info": {
   "codemirror_mode": {
    "name": "ipython",
    "version": 3
   },
   "file_extension": ".py",
   "mimetype": "text/x-python",
   "name": "python",
   "nbconvert_exporter": "python",
   "pygments_lexer": "ipython3",
   "version": "3.8.2"
  }
 },
 "nbformat": 4,
 "nbformat_minor": 4
}
